{
 "cells": [
  {
   "cell_type": "code",
   "execution_count": 3,
   "metadata": {},
   "outputs": [
    {
     "name": "stderr",
     "output_type": "stream",
     "text": [
      "c:\\Users\\USER\\Desktop\\Pvt\\Anjana\\credit_card_fraud\\ccd-venv\\lib\\site-packages\\sklearn\\preprocessing\\_encoders.py:868: FutureWarning: `sparse` was renamed to `sparse_output` in version 1.2 and will be removed in 1.4. `sparse_output` is ignored unless you leave `sparse` to its default value.\n",
      "  warnings.warn(\n"
     ]
    },
    {
     "ename": "ValueError",
     "evalue": "The feature names should match those that were passed during fit.\nFeature names unseen at fit time:\n- Amount\n",
     "output_type": "error",
     "traceback": [
      "\u001b[1;31m---------------------------------------------------------------------------\u001b[0m",
      "\u001b[1;31mValueError\u001b[0m                                Traceback (most recent call last)",
      "Cell \u001b[1;32mIn[3], line 53\u001b[0m\n\u001b[0;32m     50\u001b[0m             \u001b[39mreturn\u001b[39;00m \u001b[39mTrue\u001b[39;00m\n\u001b[0;32m     52\u001b[0m \u001b[39m# Sample inputs\u001b[39;00m\n\u001b[1;32m---> 53\u001b[0m result \u001b[39m=\u001b[39m predict(\u001b[39m'\u001b[39;49m\u001b[39mWithdrawal\u001b[39;49m\u001b[39m'\u001b[39;49m, \u001b[39m'\u001b[39;49m\u001b[39m100\u001b[39;49m\u001b[39m'\u001b[39;49m, \u001b[39m12\u001b[39;49m, \u001b[39m'\u001b[39;49m\u001b[39mCoimbatore\u001b[39;49m\u001b[39m'\u001b[39;49m) \u001b[39m# Enter the transaction type, amount, time of day, and location\u001b[39;00m\n\u001b[0;32m     54\u001b[0m \u001b[39mif\u001b[39;00m result:\n\u001b[0;32m     55\u001b[0m     \u001b[39mprint\u001b[39m(\u001b[39m'\u001b[39m\u001b[39mFraudulent Transaction\u001b[39m\u001b[39m'\u001b[39m)\n",
      "Cell \u001b[1;32mIn[3], line 28\u001b[0m, in \u001b[0;36mpredict\u001b[1;34m(transaction, amount, time_of_day, location)\u001b[0m\n\u001b[0;32m     20\u001b[0m sample_inputs \u001b[39m=\u001b[39m pd\u001b[39m.\u001b[39mDataFrame({\n\u001b[0;32m     21\u001b[0m     \u001b[39m'\u001b[39m\u001b[39mTransaction\u001b[39m\u001b[39m'\u001b[39m: [transaction],\n\u001b[0;32m     22\u001b[0m     \u001b[39m'\u001b[39m\u001b[39mAmount\u001b[39m\u001b[39m'\u001b[39m: [amount],\n\u001b[0;32m     23\u001b[0m     \u001b[39m'\u001b[39m\u001b[39mTime of Day\u001b[39m\u001b[39m'\u001b[39m: [time_of_day],\n\u001b[0;32m     24\u001b[0m     \u001b[39m'\u001b[39m\u001b[39mLocation\u001b[39m\u001b[39m'\u001b[39m: [location]\n\u001b[0;32m     25\u001b[0m })\n\u001b[0;32m     27\u001b[0m \u001b[39m# Preprocess the sample inputs\u001b[39;00m\n\u001b[1;32m---> 28\u001b[0m sample_inputs_encoded \u001b[39m=\u001b[39m pd\u001b[39m.\u001b[39mDataFrame(enc\u001b[39m.\u001b[39;49mtransform(sample_inputs\u001b[39m.\u001b[39;49mselect_dtypes(include\u001b[39m=\u001b[39;49m[\u001b[39m'\u001b[39;49m\u001b[39mobject\u001b[39;49m\u001b[39m'\u001b[39;49m])))\n\u001b[0;32m     29\u001b[0m sample_inputs_encoded\u001b[39m.\u001b[39mcolumns \u001b[39m=\u001b[39m enc\u001b[39m.\u001b[39mget_feature_names_out(sample_inputs\u001b[39m.\u001b[39mselect_dtypes(include\u001b[39m=\u001b[39m[\u001b[39m'\u001b[39m\u001b[39mobject\u001b[39m\u001b[39m'\u001b[39m])\u001b[39m.\u001b[39mcolumns)\n\u001b[0;32m     30\u001b[0m sample_inputs \u001b[39m=\u001b[39m sample_inputs\u001b[39m.\u001b[39mdrop(sample_inputs\u001b[39m.\u001b[39mselect_dtypes(include\u001b[39m=\u001b[39m[\u001b[39m'\u001b[39m\u001b[39mobject\u001b[39m\u001b[39m'\u001b[39m])\u001b[39m.\u001b[39mcolumns, axis\u001b[39m=\u001b[39m\u001b[39m1\u001b[39m)\n",
      "File \u001b[1;32mc:\\Users\\USER\\Desktop\\Pvt\\Anjana\\credit_card_fraud\\ccd-venv\\lib\\site-packages\\sklearn\\utils\\_set_output.py:140\u001b[0m, in \u001b[0;36m_wrap_method_output.<locals>.wrapped\u001b[1;34m(self, X, *args, **kwargs)\u001b[0m\n\u001b[0;32m    138\u001b[0m \u001b[39m@wraps\u001b[39m(f)\n\u001b[0;32m    139\u001b[0m \u001b[39mdef\u001b[39;00m \u001b[39mwrapped\u001b[39m(\u001b[39mself\u001b[39m, X, \u001b[39m*\u001b[39margs, \u001b[39m*\u001b[39m\u001b[39m*\u001b[39mkwargs):\n\u001b[1;32m--> 140\u001b[0m     data_to_wrap \u001b[39m=\u001b[39m f(\u001b[39mself\u001b[39m, X, \u001b[39m*\u001b[39margs, \u001b[39m*\u001b[39m\u001b[39m*\u001b[39mkwargs)\n\u001b[0;32m    141\u001b[0m     \u001b[39mif\u001b[39;00m \u001b[39misinstance\u001b[39m(data_to_wrap, \u001b[39mtuple\u001b[39m):\n\u001b[0;32m    142\u001b[0m         \u001b[39m# only wrap the first output for cross decomposition\u001b[39;00m\n\u001b[0;32m    143\u001b[0m         \u001b[39mreturn\u001b[39;00m (\n\u001b[0;32m    144\u001b[0m             _wrap_data_with_container(method, data_to_wrap[\u001b[39m0\u001b[39m], X, \u001b[39mself\u001b[39m),\n\u001b[0;32m    145\u001b[0m             \u001b[39m*\u001b[39mdata_to_wrap[\u001b[39m1\u001b[39m:],\n\u001b[0;32m    146\u001b[0m         )\n",
      "File \u001b[1;32mc:\\Users\\USER\\Desktop\\Pvt\\Anjana\\credit_card_fraud\\ccd-venv\\lib\\site-packages\\sklearn\\preprocessing\\_encoders.py:917\u001b[0m, in \u001b[0;36mOneHotEncoder.transform\u001b[1;34m(self, X)\u001b[0m\n\u001b[0;32m    912\u001b[0m \u001b[39m# validation of X happens in _check_X called by _transform\u001b[39;00m\n\u001b[0;32m    913\u001b[0m warn_on_unknown \u001b[39m=\u001b[39m \u001b[39mself\u001b[39m\u001b[39m.\u001b[39mdrop \u001b[39mis\u001b[39;00m \u001b[39mnot\u001b[39;00m \u001b[39mNone\u001b[39;00m \u001b[39mand\u001b[39;00m \u001b[39mself\u001b[39m\u001b[39m.\u001b[39mhandle_unknown \u001b[39min\u001b[39;00m {\n\u001b[0;32m    914\u001b[0m     \u001b[39m\"\u001b[39m\u001b[39mignore\u001b[39m\u001b[39m\"\u001b[39m,\n\u001b[0;32m    915\u001b[0m     \u001b[39m\"\u001b[39m\u001b[39minfrequent_if_exist\u001b[39m\u001b[39m\"\u001b[39m,\n\u001b[0;32m    916\u001b[0m }\n\u001b[1;32m--> 917\u001b[0m X_int, X_mask \u001b[39m=\u001b[39m \u001b[39mself\u001b[39;49m\u001b[39m.\u001b[39;49m_transform(\n\u001b[0;32m    918\u001b[0m     X,\n\u001b[0;32m    919\u001b[0m     handle_unknown\u001b[39m=\u001b[39;49m\u001b[39mself\u001b[39;49m\u001b[39m.\u001b[39;49mhandle_unknown,\n\u001b[0;32m    920\u001b[0m     force_all_finite\u001b[39m=\u001b[39;49m\u001b[39m\"\u001b[39;49m\u001b[39mallow-nan\u001b[39;49m\u001b[39m\"\u001b[39;49m,\n\u001b[0;32m    921\u001b[0m     warn_on_unknown\u001b[39m=\u001b[39;49mwarn_on_unknown,\n\u001b[0;32m    922\u001b[0m )\n\u001b[0;32m    923\u001b[0m \u001b[39mself\u001b[39m\u001b[39m.\u001b[39m_map_infrequent_categories(X_int, X_mask)\n\u001b[0;32m    925\u001b[0m n_samples, n_features \u001b[39m=\u001b[39m X_int\u001b[39m.\u001b[39mshape\n",
      "File \u001b[1;32mc:\\Users\\USER\\Desktop\\Pvt\\Anjana\\credit_card_fraud\\ccd-venv\\lib\\site-packages\\sklearn\\preprocessing\\_encoders.py:154\u001b[0m, in \u001b[0;36m_BaseEncoder._transform\u001b[1;34m(self, X, handle_unknown, force_all_finite, warn_on_unknown)\u001b[0m\n\u001b[0;32m    151\u001b[0m \u001b[39mdef\u001b[39;00m \u001b[39m_transform\u001b[39m(\n\u001b[0;32m    152\u001b[0m     \u001b[39mself\u001b[39m, X, handle_unknown\u001b[39m=\u001b[39m\u001b[39m\"\u001b[39m\u001b[39merror\u001b[39m\u001b[39m\"\u001b[39m, force_all_finite\u001b[39m=\u001b[39m\u001b[39mTrue\u001b[39;00m, warn_on_unknown\u001b[39m=\u001b[39m\u001b[39mFalse\u001b[39;00m\n\u001b[0;32m    153\u001b[0m ):\n\u001b[1;32m--> 154\u001b[0m     \u001b[39mself\u001b[39;49m\u001b[39m.\u001b[39;49m_check_feature_names(X, reset\u001b[39m=\u001b[39;49m\u001b[39mFalse\u001b[39;49;00m)\n\u001b[0;32m    155\u001b[0m     \u001b[39mself\u001b[39m\u001b[39m.\u001b[39m_check_n_features(X, reset\u001b[39m=\u001b[39m\u001b[39mFalse\u001b[39;00m)\n\u001b[0;32m    156\u001b[0m     X_list, n_samples, n_features \u001b[39m=\u001b[39m \u001b[39mself\u001b[39m\u001b[39m.\u001b[39m_check_X(\n\u001b[0;32m    157\u001b[0m         X, force_all_finite\u001b[39m=\u001b[39mforce_all_finite\n\u001b[0;32m    158\u001b[0m     )\n",
      "File \u001b[1;32mc:\\Users\\USER\\Desktop\\Pvt\\Anjana\\credit_card_fraud\\ccd-venv\\lib\\site-packages\\sklearn\\base.py:481\u001b[0m, in \u001b[0;36mBaseEstimator._check_feature_names\u001b[1;34m(self, X, reset)\u001b[0m\n\u001b[0;32m    476\u001b[0m \u001b[39mif\u001b[39;00m \u001b[39mnot\u001b[39;00m missing_names \u001b[39mand\u001b[39;00m \u001b[39mnot\u001b[39;00m unexpected_names:\n\u001b[0;32m    477\u001b[0m     message \u001b[39m+\u001b[39m\u001b[39m=\u001b[39m (\n\u001b[0;32m    478\u001b[0m         \u001b[39m\"\u001b[39m\u001b[39mFeature names must be in the same order as they were in fit.\u001b[39m\u001b[39m\\n\u001b[39;00m\u001b[39m\"\u001b[39m\n\u001b[0;32m    479\u001b[0m     )\n\u001b[1;32m--> 481\u001b[0m \u001b[39mraise\u001b[39;00m \u001b[39mValueError\u001b[39;00m(message)\n",
      "\u001b[1;31mValueError\u001b[0m: The feature names should match those that were passed during fit.\nFeature names unseen at fit time:\n- Amount\n"
     ]
    }
   ],
   "source": [
    "import numpy as np\n",
    "import pandas as pd\n",
    "from keras.models import load_model\n",
    "from sklearn.preprocessing import OneHotEncoder\n",
    "\n",
    "# Load the trained model\n",
    "model = load_model('cnn_ann_model.h5')\n",
    "\n",
    "# Load the original dataset\n",
    "data = pd.read_csv('sample_Datasets.csv')\n",
    "X = data.drop(['Fraudulent'], axis=1)\n",
    "\n",
    "# Prepare the OneHotEncoder for categorical features\n",
    "enc = OneHotEncoder(sparse=False)\n",
    "enc.fit(X.select_dtypes(include=['object']))\n",
    "\n",
    "\n",
    "def predict(transaction, amount, time_of_day, location):\n",
    "    # Sample inputs\n",
    "    sample_inputs = pd.DataFrame({\n",
    "        'Transaction': [transaction],\n",
    "        'Amount': [amount],\n",
    "        'Time of Day': [time_of_day],\n",
    "        'Location': [location]\n",
    "    })\n",
    "\n",
    "    # Preprocess the sample inputs\n",
    "    sample_inputs_encoded = pd.DataFrame(enc.transform(sample_inputs.select_dtypes(include=['object'])))\n",
    "    sample_inputs_encoded.columns = enc.get_feature_names_out(sample_inputs.select_dtypes(include=['object']).columns)\n",
    "    sample_inputs = sample_inputs.drop(sample_inputs.select_dtypes(include=['object']).columns, axis=1)\n",
    "    sample_inputs = pd.concat([sample_inputs, sample_inputs_encoded], axis=1)\n",
    "\n",
    "    # Convert the sample inputs to float format\n",
    "    sample_inputs = sample_inputs.astype('float32')\n",
    "\n",
    "    # Reshape the sample inputs for the CNN-ANN model\n",
    "    sample_inputs = np.expand_dims(sample_inputs.values, axis=-1)\n",
    "\n",
    "    # Make predictions using the model\n",
    "    predictions = model.predict(sample_inputs)\n",
    "    predictions = np.round(predictions)\n",
    "\n",
    "    # Print the predictions\n",
    "    for i, prediction in enumerate(predictions):\n",
    "        if prediction == 0:\n",
    "            print(f'Sample {i + 1} is predicted to be Legitimate')\n",
    "            return False\n",
    "        else:\n",
    "            print(f'Sample {i + 1} is predicted to be Fraudulent')\n",
    "            return True\n",
    "\n",
    "# Sample inputs\n",
    "result = predict('Withdrawal', 100, 12, 'Coimbatore') # Enter the transaction type, amount, time of day, and location\n",
    "if result:\n",
    "    print('Fraudulent Transaction')\n",
    "else:\n",
    "    print('Legitimate Transaction')"
   ]
  }
 ],
 "metadata": {
  "kernelspec": {
   "display_name": "ccd-venv",
   "language": "python",
   "name": "python3"
  },
  "language_info": {
   "codemirror_mode": {
    "name": "ipython",
    "version": 3
   },
   "file_extension": ".py",
   "mimetype": "text/x-python",
   "name": "python",
   "nbconvert_exporter": "python",
   "pygments_lexer": "ipython3",
   "version": "3.10.7"
  },
  "orig_nbformat": 4
 },
 "nbformat": 4,
 "nbformat_minor": 2
}
