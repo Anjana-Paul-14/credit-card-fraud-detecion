{
 "cells": [
  {
   "cell_type": "code",
   "execution_count": 1,
   "metadata": {},
   "outputs": [
    {
     "name": "stdout",
     "output_type": "stream",
     "text": [
      "1/1 [==============================] - 0s 132ms/step\n",
      "Sample 1 is predicted to be Legitimate\n",
      "Legitimate Transaction\n"
     ]
    },
    {
     "name": "stderr",
     "output_type": "stream",
     "text": [
      "c:\\Users\\USER\\Desktop\\Pvt\\Anjana\\credit_card_fraud\\ccd-venv\\lib\\site-packages\\sklearn\\preprocessing\\_encoders.py:868: FutureWarning: `sparse` was renamed to `sparse_output` in version 1.2 and will be removed in 1.4. `sparse_output` is ignored unless you leave `sparse` to its default value.\n",
      "  warnings.warn(\n"
     ]
    }
   ],
   "source": [
    "import numpy as np\n",
    "import pandas as pd\n",
    "from keras.models import load_model\n",
    "from sklearn.preprocessing import OneHotEncoder\n",
    "\n",
    "# Load the trained model\n",
    "model = load_model('cnn_ann_model.h5')\n",
    "\n",
    "# Load the original dataset\n",
    "data = pd.read_csv('sample_Datasets.csv')\n",
    "X = data.drop(['Fraudulent'], axis=1)\n",
    "\n",
    "# Prepare the OneHotEncoder for categorical features\n",
    "enc = OneHotEncoder(sparse=False)\n",
    "enc.fit(X.select_dtypes(include=['object']))\n",
    "\n",
    "\n",
    "def predict(transaction, amount, time_of_day, location):\n",
    "    # Sample inputs\n",
    "    sample_inputs = pd.DataFrame({\n",
    "        'Transaction': [transaction],\n",
    "        'Amount': [amount],\n",
    "        'Time of Day': [time_of_day],\n",
    "        'Location': [location]\n",
    "    })\n",
    "\n",
    "    # Preprocess the sample inputs\n",
    "    sample_inputs_encoded = pd.DataFrame(enc.transform(sample_inputs.select_dtypes(include=['object'])))\n",
    "    sample_inputs_encoded.columns = enc.get_feature_names_out(sample_inputs.select_dtypes(include=['object']).columns)\n",
    "    sample_inputs = sample_inputs.drop(sample_inputs.select_dtypes(include=['object']).columns, axis=1)\n",
    "    sample_inputs = pd.concat([sample_inputs, sample_inputs_encoded], axis=1)\n",
    "\n",
    "    # Convert the sample inputs to float format\n",
    "    sample_inputs = sample_inputs.astype('float32')\n",
    "\n",
    "    # Reshape the sample inputs for the CNN-ANN model\n",
    "    sample_inputs = np.expand_dims(sample_inputs.values, axis=-1)\n",
    "\n",
    "    # Make predictions using the model\n",
    "    predictions = model.predict(sample_inputs)\n",
    "    predictions = np.round(predictions)\n",
    "\n",
    "    # Print the predictions\n",
    "    for i, prediction in enumerate(predictions):\n",
    "        if prediction == 0:\n",
    "            print(f'Sample {i + 1} is predicted to be Legitimate')\n",
    "            return False\n",
    "        else:\n",
    "            print(f'Sample {i + 1} is predicted to be Fraudulent')\n",
    "            return True\n",
    "\n",
    "# Sample inputs\n",
    "result = predict('Withdrawal', '100', 12, 'Coimbatore') # Enter the transaction type, amount, time of day, and location\n",
    "if result:\n",
    "    print('Fraudulent Transaction')\n",
    "else:\n",
    "    print('Legitimate Transaction')"
   ]
  }
 ],
 "metadata": {
  "kernelspec": {
   "display_name": "ccd-venv",
   "language": "python",
   "name": "python3"
  },
  "language_info": {
   "codemirror_mode": {
    "name": "ipython",
    "version": 3
   },
   "file_extension": ".py",
   "mimetype": "text/x-python",
   "name": "python",
   "nbconvert_exporter": "python",
   "pygments_lexer": "ipython3",
   "version": "3.10.7"
  },
  "orig_nbformat": 4
 },
 "nbformat": 4,
 "nbformat_minor": 2
}
